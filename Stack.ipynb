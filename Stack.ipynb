{
  "nbformat": 4,
  "nbformat_minor": 0,
  "metadata": {
    "colab": {
      "provenance": [],
      "authorship_tag": "ABX9TyOxrknjtg6ukk+m/gPp2sAD",
      "include_colab_link": true
    },
    "kernelspec": {
      "name": "python3",
      "display_name": "Python 3"
    },
    "language_info": {
      "name": "python"
    }
  },
  "cells": [
    {
      "cell_type": "markdown",
      "metadata": {
        "id": "view-in-github",
        "colab_type": "text"
      },
      "source": [
        "<a href=\"https://colab.research.google.com/github/Rasheed-Alimen/58010-DSAA/blob/main/Stack.ipynb\" target=\"_parent\"><img src=\"https://colab.research.google.com/assets/colab-badge.svg\" alt=\"Open In Colab\"/></a>"
      ]
    },
    {
      "cell_type": "code",
      "execution_count": 1,
      "metadata": {
        "id": "nM1c_LAfEDTN",
        "outputId": "b3655201-236a-44ae-b437-d76d1575c1ab",
        "colab": {
          "base_uri": "https://localhost:8080/"
        }
      },
      "outputs": [
        {
          "output_type": "stream",
          "name": "stdout",
          "text": [
            "['Mon', 'Tue', 'Wed', 'Thu', 'Fri', 'Sat', 'Sun']\n"
          ]
        }
      ],
      "source": [
        "class Stack:\n",
        "  def __init__(self):\n",
        "    self.stack = []\n",
        "\n",
        "  def add(self,dataval):\n",
        "    if dataval not in self.stack:\n",
        "      self.stack.append(dataval)\n",
        "      return True\n",
        "    else:\n",
        "      return False\n",
        "\n",
        "  def remove(self):\n",
        "    if len(self.stack) <= 0:\n",
        "      return (\"No element in Stack\")\n",
        "    else:\n",
        "      return self.stack.pop()\n",
        "\n",
        "AStack = Stack()\n",
        "AStack.add(\"Mon\")\n",
        "AStack.add(\"Tue\")\n",
        "AStack.add(\"Wed\")\n",
        "AStack.add(\"Thu\")\n",
        "AStack.add(\"Fri\")\n",
        "AStack.add(\"Sat\")\n",
        "AStack.add(\"Sun\")\n",
        "print(AStack.stack)\n"
      ]
    }
  ]
}