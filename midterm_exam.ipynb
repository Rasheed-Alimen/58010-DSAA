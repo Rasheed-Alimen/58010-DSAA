{
  "nbformat": 4,
  "nbformat_minor": 0,
  "metadata": {
    "colab": {
      "provenance": [],
      "authorship_tag": "ABX9TyM+OsoFH+TWZgMivcZf205N",
      "include_colab_link": true
    },
    "kernelspec": {
      "name": "python3",
      "display_name": "Python 3"
    },
    "language_info": {
      "name": "python"
    }
  },
  "cells": [
    {
      "cell_type": "markdown",
      "metadata": {
        "id": "view-in-github",
        "colab_type": "text"
      },
      "source": [
        "<a href=\"https://colab.research.google.com/github/Rasheed-Alimen/58010-DSAA/blob/main/midterm_exam.ipynb\" target=\"_parent\"><img src=\"https://colab.research.google.com/assets/colab-badge.svg\" alt=\"Open In Colab\"/></a>"
      ]
    },
    {
      "cell_type": "markdown",
      "source": [
        "EDGES"
      ],
      "metadata": {
        "id": "RCgDGF3qmJVl"
      }
    },
    {
      "cell_type": "code",
      "execution_count": 3,
      "metadata": {
        "colab": {
          "base_uri": "https://localhost:8080/"
        },
        "id": "Mk-glEMLjJR8",
        "outputId": "30b670f9-d244-4999-c48f-05e12b36c05e"
      },
      "outputs": [
        {
          "output_type": "stream",
          "name": "stdout",
          "text": [
            "[{'A', 'B'}, {'E', 'B'}, {'C', 'B'}, {'F', 'B'}, {'E', 'C'}, {'M', 'C'}, {'C', 'D'}, {'I', 'C'}, {'C', 'F'}, {'L', 'D'}, {'K', 'D'}, {'E', 'N'}, {'I', 'F'}, {'G', 'F'}, {'I', 'G'}, {'J', 'G'}, {'K', 'I'}, {'J', 'I'}, {'J', 'K'}, {'L', 'M'}, {'P', 'L'}, {'M', 'N'}, {'M', 'O'}, {'P', 'M'}, {'O', 'N'}, {'P', 'O'}]\n"
          ]
        }
      ],
      "source": [
        "\n",
        "class graph:\n",
        "   def __init__(self,gdict=None):\n",
        "      if gdict is None:\n",
        "         gdict = {}\n",
        "      self.gdict = gdict\n",
        "\n",
        "   def edges(self):\n",
        "      return self.findedges()\n",
        "# Find the distinct list of edges\n",
        "   def findedges(self):\n",
        "      edgename = []\n",
        "      for vrtx in self.gdict:\n",
        "         for nxtvrtx in self.gdict[vrtx]:\n",
        "            if {nxtvrtx, vrtx} not in edgename:\n",
        "               edgename.append({vrtx, nxtvrtx})\n",
        "      return edgename\n",
        "# Create the dictionary with graph elements\n",
        "graph_elements = {\n",
        "   \"A\" : [\"B\"],\n",
        "   \"B\" : [\"E\", \"C\", \"F\"],\n",
        "   \"C\" : [\"E\", \"M\", \"D\", \"I\", \"F\"],\n",
        "   \"D\" : [\"C\", \"L\", \"K\"],\n",
        "   \"E\" : [\"B\", \"C\", \"N\"],\n",
        "   \"F\" : [\"B\", \"C\", \"I\", \"G\"],\n",
        "   \"G\" : [\"F\", \"I\", \"J\"],\n",
        "   \"I\" : [\"F\", \"C\", \"K\", \"J\"],\n",
        "   \"J\" : [\"K\", \"G\", \"I\"],\n",
        "   \"K\" : [\"D\", \"J\", \"I\"],\n",
        "   \"L\" : [\"M\", \"P\", \"D\"],\n",
        "   \"M\" : [\"N\", \"O\", \"P\", \"C\"],\n",
        "   \"N\" : [\"E\", \"M\", \"O\"],\n",
        "   \"O\" : [\"N\", \"M\", \"P\"],\n",
        "   \"P\" : [\"O\", \"M\", \"L\"],\n",
        "}\n",
        "g = graph(graph_elements)\n",
        "print(g.edges())"
      ]
    },
    {
      "cell_type": "markdown",
      "source": [
        "VERTICES\n",
        "\n"
      ],
      "metadata": {
        "id": "koQYL8iCmNdc"
      }
    },
    {
      "cell_type": "code",
      "source": [
        "class graph:\n",
        "   def __init__(self,gdict=None):\n",
        "      if gdict is None:\n",
        "         gdict = []\n",
        "      self.gdict = gdict\n",
        "   def getVertices(self):\n",
        "      return list(self.gdict.keys())\n",
        "graph_elements = {\n",
        "   \"A\" : [\"B\"],\n",
        "   \"B\" : [\"E\", \"C\", \"F\"],\n",
        "   \"C\" : [\"E\", \"M\", \"D\", \"I\", \"F\"],\n",
        "   \"D\" : [\"C\", \"L\", \"K\"],\n",
        "   \"E\" : [\"B\", \"C\", \"N\"],\n",
        "   \"F\" : [\"B\", \"C\", \"I\", \"G\"],\n",
        "   \"G\" : [\"F\", \"I\", \"J\"],\n",
        "   \"I\" : [\"F\", \"C\", \"K\", \"J\"],\n",
        "   \"J\" : [\"K\", \"G\", \"I\"],\n",
        "   \"K\" : [\"D\", \"J\", \"I\"],\n",
        "   \"L\" : [\"M\", \"P\", \"D\"],\n",
        "   \"M\" : [\"N\", \"O\", \"P\", \"C\"],\n",
        "   \"N\" : [\"E\", \"M\", \"O\"],\n",
        "   \"O\" : [\"N\", \"M\", \"P\"],\n",
        "   \"P\" : [\"O\", \"M\", \"L\"],\n",
        "}\n",
        "g = graph(graph_elements)\n",
        "print(g.getVertices())\n"
      ],
      "metadata": {
        "colab": {
          "base_uri": "https://localhost:8080/"
        },
        "id": "xCKImzQfmI4_",
        "outputId": "cc88b70d-e322-4f6e-e2b6-63105e115d52"
      },
      "execution_count": 5,
      "outputs": [
        {
          "output_type": "stream",
          "name": "stdout",
          "text": [
            "['A', 'B', 'C', 'D', 'E', 'F', 'G', 'I', 'J', 'K', 'L', 'M', 'N', 'O', 'P']\n"
          ]
        }
      ]
    }
  ]
}