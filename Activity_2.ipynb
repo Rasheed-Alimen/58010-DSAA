{
  "nbformat": 4,
  "nbformat_minor": 0,
  "metadata": {
    "colab": {
      "provenance": [],
      "authorship_tag": "ABX9TyNXswQ3I0W5H1mnFOxpdeM9",
      "include_colab_link": true
    },
    "kernelspec": {
      "name": "python3",
      "display_name": "Python 3"
    },
    "language_info": {
      "name": "python"
    }
  },
  "cells": [
    {
      "cell_type": "markdown",
      "metadata": {
        "id": "view-in-github",
        "colab_type": "text"
      },
      "source": [
        "<a href=\"https://colab.research.google.com/github/Rasheed-Alimen/58010-DSAA/blob/main/Activity_2.ipynb\" target=\"_parent\"><img src=\"https://colab.research.google.com/assets/colab-badge.svg\" alt=\"Open In Colab\"/></a>"
      ]
    },
    {
      "cell_type": "code",
      "execution_count": 6,
      "metadata": {
        "id": "jjvEfe6zzdzn"
      },
      "outputs": [],
      "source": [
        "class Node:\n",
        "    def __init__(self, data):\n",
        "        self.data = data\n",
        "        self.next = None\n",
        "\n",
        "def is_prime(num):\n",
        "    if num <= 1:\n",
        "        return False\n",
        "    if num == 2:\n",
        "        return True\n",
        "    if num % 2 == 0:\n",
        "        return False\n",
        "    for i in range(3, int(num**0.5) + 1, 2):\n",
        "        if num % i == 0:\n",
        "            return False\n",
        "    return True\n",
        "\n",
        "def create_prime_linked_list(limit):\n",
        "    head = None\n",
        "    tail = None\n",
        "\n",
        "    for number in range(2, limit):\n",
        "        if is_prime(number):\n",
        "            new_node = Node(number)\n",
        "            if head is None:\n",
        "                head = new_node\n",
        "                tail = new_node\n",
        "            else:\n",
        "                tail.next = new_node\n",
        "                tail = new_node\n",
        "\n",
        "    return head, tail\n",
        "\n",
        "def display_linked_list(head):\n",
        "    current = head\n",
        "    while current:\n",
        "        print(current.data, end=\" -> \")\n",
        "        current = current.next\n",
        "    print(\"None\")\n",
        "\n",
        "if __name__ == \" __main__ \":\n",
        "    limit = 20\n",
        "    prime_head, prime_tail = create_prime_linked_list(limit)\n",
        "\n",
        "    print(\"Prime Numbers less than\", limit, \":\")\n",
        "    display_linked_list(prime_head)\n",
        "\n",
        "    if prime_head:\n",
        "        print(\"Head:\", prime_head.data)\n",
        "        print(\"Tail:\", prime_tail.data)\n",
        "    else:\n",
        "        print(\"The list is empty.\")"
      ]
    }
  ]
}