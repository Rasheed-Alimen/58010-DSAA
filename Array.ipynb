{
  "nbformat": 4,
  "nbformat_minor": 0,
  "metadata": {
    "colab": {
      "provenance": [],
      "authorship_tag": "ABX9TyPMQfYnyBEXN321PGJcrzBW",
      "include_colab_link": true
    },
    "kernelspec": {
      "name": "python3",
      "display_name": "Python 3"
    },
    "language_info": {
      "name": "python"
    }
  },
  "cells": [
    {
      "cell_type": "markdown",
      "metadata": {
        "id": "view-in-github",
        "colab_type": "text"
      },
      "source": [
        "<a href=\"https://colab.research.google.com/github/Rasheed-Alimen/58010-DSAA/blob/main/Array.ipynb\" target=\"_parent\"><img src=\"https://colab.research.google.com/assets/colab-badge.svg\" alt=\"Open In Colab\"/></a>"
      ]
    },
    {
      "cell_type": "markdown",
      "source": [
        "Accessing the Elements in the Array"
      ],
      "metadata": {
        "id": "hRpjah7Ht8tx"
      }
    },
    {
      "cell_type": "code",
      "execution_count": 5,
      "metadata": {
        "colab": {
          "base_uri": "https://localhost:8080/"
        },
        "id": "CvLV6wvet3fY",
        "outputId": "e1ae4a8a-9205-4ed4-9e19-e6785982cc27"
      },
      "outputs": [
        {
          "output_type": "stream",
          "name": "stdout",
          "text": [
            "cat\n"
          ]
        }
      ],
      "source": [
        "animals = [\"cat\", \"dog\", \"fish\"]\n",
        "x = animals[0]\n",
        "print (x)"
      ]
    },
    {
      "cell_type": "markdown",
      "source": [
        "Modifying the Elements in the Array"
      ],
      "metadata": {
        "id": "K83b6kgLuYIa"
      }
    },
    {
      "cell_type": "code",
      "source": [
        "animals = [\"cat\", \"dog\", \"fish\"]\n",
        "animals[0] = (\"monkey\")\n",
        "print (x)"
      ],
      "metadata": {
        "colab": {
          "base_uri": "https://localhost:8080/"
        },
        "id": "0UASHmgzudfY",
        "outputId": "be55bf37-048c-47f5-ee9f-2dc72c80fadb"
      },
      "execution_count": 16,
      "outputs": [
        {
          "output_type": "stream",
          "name": "stdout",
          "text": [
            "fish\n"
          ]
        }
      ]
    },
    {
      "cell_type": "markdown",
      "source": [
        "Length of an Array"
      ],
      "metadata": {
        "id": "2U5EY9JsunUf"
      }
    },
    {
      "cell_type": "code",
      "source": [
        "animals = [\"cat\", \"dog\", \"fish\"]\n",
        "x = len(animals)\n",
        "print (x)"
      ],
      "metadata": {
        "colab": {
          "base_uri": "https://localhost:8080/"
        },
        "id": "YA6X85NQupb_",
        "outputId": "c43431e7-190b-4f59-a232-88459a8c5430"
      },
      "execution_count": 7,
      "outputs": [
        {
          "output_type": "stream",
          "name": "stdout",
          "text": [
            "3\n"
          ]
        }
      ]
    },
    {
      "cell_type": "markdown",
      "source": [
        "Looping Array Elements"
      ],
      "metadata": {
        "id": "KkgjXU6huxk1"
      }
    },
    {
      "cell_type": "code",
      "source": [
        "animals = [\"cat\", \"dog\", \"fish\"]\n",
        "for x in animals:\n",
        " print (x)"
      ],
      "metadata": {
        "colab": {
          "base_uri": "https://localhost:8080/"
        },
        "id": "Q6QOu9fTuxOl",
        "outputId": "8dd9deff-0693-451b-c0ca-1efbfbbb6a76"
      },
      "execution_count": 8,
      "outputs": [
        {
          "output_type": "stream",
          "name": "stdout",
          "text": [
            "cat\n",
            "dog\n",
            "fish\n"
          ]
        }
      ]
    },
    {
      "cell_type": "markdown",
      "source": [
        "Adding Elements in the Array"
      ],
      "metadata": {
        "id": "rkja9-iDu-H_"
      }
    },
    {
      "cell_type": "code",
      "source": [
        "animals = [\"cat\", \"dog\", \"fish\"]\n",
        "animals.append(\"monkey\")\n",
        "print (animals)"
      ],
      "metadata": {
        "colab": {
          "base_uri": "https://localhost:8080/"
        },
        "id": "tHMLCmtdvErn",
        "outputId": "96b999cf-ee29-49ca-b235-e0d1e16d34c5"
      },
      "execution_count": 9,
      "outputs": [
        {
          "output_type": "stream",
          "name": "stdout",
          "text": [
            "['cat', 'dog', 'fish', 'monkey']\n"
          ]
        }
      ]
    },
    {
      "cell_type": "markdown",
      "source": [
        "Removing an Element in the Array"
      ],
      "metadata": {
        "id": "CwaiWKcHvNtf"
      }
    },
    {
      "cell_type": "code",
      "source": [
        "animals = [\"cat\", \"dog\", \"fish\"]\n",
        "animals.pop(1)\n",
        "print (animals)"
      ],
      "metadata": {
        "colab": {
          "base_uri": "https://localhost:8080/"
        },
        "id": "bSxc52nZvPRW",
        "outputId": "3d9489c1-bd4b-4659-f10e-9138dce17301"
      },
      "execution_count": 10,
      "outputs": [
        {
          "output_type": "stream",
          "name": "stdout",
          "text": [
            "['cat', 'fish']\n"
          ]
        }
      ]
    },
    {
      "cell_type": "markdown",
      "source": [
        "Array sorting"
      ],
      "metadata": {
        "id": "yn8Vkbw23uGA"
      }
    },
    {
      "cell_type": "code",
      "source": [
        "animals = [\"fish\", \"monkey\", \"cat\", \"dog\"]\n",
        "animals.sort()\n",
        "print(animals)"
      ],
      "metadata": {
        "id": "GTNTibIZ3wtw"
      },
      "execution_count": null,
      "outputs": []
    }
  ]
}