{
  "nbformat": 4,
  "nbformat_minor": 0,
  "metadata": {
    "colab": {
      "provenance": [],
      "authorship_tag": "ABX9TyMvM2d/J2nS/rh15XC3Hs24",
      "include_colab_link": true
    },
    "kernelspec": {
      "name": "python3",
      "display_name": "Python 3"
    },
    "language_info": {
      "name": "python"
    }
  },
  "cells": [
    {
      "cell_type": "markdown",
      "metadata": {
        "id": "view-in-github",
        "colab_type": "text"
      },
      "source": [
        "<a href=\"https://colab.research.google.com/github/Rasheed-Alimen/58010-DSAA/blob/main/Activity1.ipynb\" target=\"_parent\"><img src=\"https://colab.research.google.com/assets/colab-badge.svg\" alt=\"Open In Colab\"/></a>"
      ]
    },
    {
      "cell_type": "markdown",
      "source": [
        "1.Write a Python program to create an array of 10 integers and display the array items. Access individual elements through indexes and compute for the sum."
      ],
      "metadata": {
        "id": "5CCF_a7v9AfH"
      }
    },
    {
      "cell_type": "code",
      "source": [
        "numbers = [1, 2, 3, 4, 5, 6, 7, 8, 9, 10]\n",
        "print (numbers)\n",
        "\n",
        "print(\"index 1:\", numbers[0])\n",
        "print(\"index 2:\", numbers[1])\n",
        "print(\"index 3:\", numbers[2])\n",
        "print(\"index 4:\", numbers[3])\n",
        "print(\"index 5:\", numbers[4])\n",
        "print(\"index 6:\", numbers[5])\n",
        "print(\"index 7:\", numbers[6])\n",
        "print(\"index 8:\", numbers[7])\n",
        "print(\"index 9:\", numbers[8])\n",
        "print(\"index 10:\", numbers[9])\n",
        "\n",
        "numbers_sum = sum(numbers)\n",
        "print(\"Sum of integers:\", numbers_sum)\n"
      ],
      "metadata": {
        "colab": {
          "base_uri": "https://localhost:8080/"
        },
        "id": "mK4aJMtg9oUu",
        "outputId": "7e2bd8a7-2730-494b-cc19-bed0aa277fc9"
      },
      "execution_count": 14,
      "outputs": [
        {
          "output_type": "stream",
          "name": "stdout",
          "text": [
            "[1, 2, 3, 4, 5, 6, 7, 8, 9, 10]\n",
            "index 1: 1\n",
            "index 2: 2\n",
            "index 3: 3\n",
            "index 4: 4\n",
            "index 5: 5\n",
            "index 6: 6\n",
            "index 7: 7\n",
            "index 8: 8\n",
            "index 9: 9\n",
            "index 10: 10\n",
            "Sum of integers: 55\n"
          ]
        }
      ]
    },
    {
      "cell_type": "markdown",
      "source": [
        "2. Write a Python program to append a new item to the end of the array."
      ],
      "metadata": {
        "id": "wy6KyjD85sRE"
      }
    },
    {
      "cell_type": "code",
      "source": [
        "numbers = [1, 2, 3, 4, 5, 6, 7, 8, 9, 10]\n",
        "numbers.append(\"11\")\n",
        "print (numbers)"
      ],
      "metadata": {
        "colab": {
          "base_uri": "https://localhost:8080/"
        },
        "id": "1Pwp4ikh5v4s",
        "outputId": "7c634f48-0df2-4445-ac3f-78ce95ff0c23"
      },
      "execution_count": 9,
      "outputs": [
        {
          "output_type": "stream",
          "name": "stdout",
          "text": [
            "[1, 2, 3, 4, 5, 6, 7, 8, 9, 10, '11']\n"
          ]
        }
      ]
    },
    {
      "cell_type": "markdown",
      "source": [
        "3. Write a Python program to insert a new item before the second element in an existing array."
      ],
      "metadata": {
        "id": "AkUI_wI58Fiz"
      }
    },
    {
      "cell_type": "code",
      "source": [
        "numbers = [1, 2, 3, 4, 5, 6, 7, 8, 9, 10]\n",
        "new_number= 1.5\n",
        "numbers.insert(2, new_number)\n",
        "print(numbers)"
      ],
      "metadata": {
        "colab": {
          "base_uri": "https://localhost:8080/"
        },
        "id": "Tghw7JmC8JYS",
        "outputId": "a704bf31-edd3-4116-f538-1f2c0d9d6022"
      },
      "execution_count": 15,
      "outputs": [
        {
          "output_type": "stream",
          "name": "stdout",
          "text": [
            "[1, 2, 1.5, 3, 4, 5, 6, 7, 8, 9, 10]\n"
          ]
        }
      ]
    },
    {
      "cell_type": "markdown",
      "source": [
        "4. Write a Python program to reverse the order of the items in the array."
      ],
      "metadata": {
        "id": "wXIZHTRp4Iyg"
      }
    },
    {
      "cell_type": "code",
      "execution_count": 7,
      "metadata": {
        "colab": {
          "base_uri": "https://localhost:8080/"
        },
        "id": "6LAjbkj52lyj",
        "outputId": "3ca8ac11-c3f0-4a6f-d352-38c3585de9ab"
      },
      "outputs": [
        {
          "output_type": "stream",
          "name": "stdout",
          "text": [
            "[1, 2, 3, 4, 5]\n"
          ]
        }
      ],
      "source": [
        "numbers = [5, 4, 3, 2, 1]\n",
        "numbers.sort()\n",
        "print(numbers)"
      ]
    },
    {
      "cell_type": "markdown",
      "source": [
        "5. Write a Python program to get the length of the array."
      ],
      "metadata": {
        "id": "ulFlL3L65A09"
      }
    },
    {
      "cell_type": "code",
      "source": [
        "numbers = [5, 4, 3, 2, 1]\n",
        "n = len(numbers)\n",
        "print (n)"
      ],
      "metadata": {
        "colab": {
          "base_uri": "https://localhost:8080/"
        },
        "id": "7djImuQc49x_",
        "outputId": "2a86eccf-1dd2-4c19-accb-7b6580b12737"
      },
      "execution_count": 8,
      "outputs": [
        {
          "output_type": "stream",
          "name": "stdout",
          "text": [
            "5\n"
          ]
        }
      ]
    }
  ]
}