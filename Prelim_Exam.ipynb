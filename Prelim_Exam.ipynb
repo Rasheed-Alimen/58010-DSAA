{
  "nbformat": 4,
  "nbformat_minor": 0,
  "metadata": {
    "colab": {
      "provenance": [],
      "authorship_tag": "ABX9TyMvpd/1FiWbWb/ug8CVSjzA",
      "include_colab_link": true
    },
    "kernelspec": {
      "name": "python3",
      "display_name": "Python 3"
    },
    "language_info": {
      "name": "python"
    }
  },
  "cells": [
    {
      "cell_type": "markdown",
      "metadata": {
        "id": "view-in-github",
        "colab_type": "text"
      },
      "source": [
        "<a href=\"https://colab.research.google.com/github/Rasheed-Alimen/58010-DSAA/blob/main/Prelim_Exam.ipynb\" target=\"_parent\"><img src=\"https://colab.research.google.com/assets/colab-badge.svg\" alt=\"Open In Colab\"/></a>"
      ]
    },
    {
      "cell_type": "markdown",
      "source": [
        "Adding test scores"
      ],
      "metadata": {
        "id": "E5Kb9CUIXRRD"
      }
    },
    {
      "cell_type": "code",
      "execution_count": 1,
      "metadata": {
        "colab": {
          "base_uri": "https://localhost:8080/"
        },
        "id": "5-LilPzSVyKL",
        "outputId": "4d6ece43-9083-49fa-b409-0a4900f9da66"
      },
      "outputs": [
        {
          "output_type": "stream",
          "name": "stdout",
          "text": [
            "Total score: 397\n"
          ]
        }
      ],
      "source": [
        "\n",
        "scores = [26, 49, 98, 87, 62, 75]\n",
        "\n",
        "total_score = sum(scores)\n",
        "print(\"Total score:\", total_score)\n"
      ]
    },
    {
      "cell_type": "markdown",
      "source": [
        "Ascend Test scores"
      ],
      "metadata": {
        "id": "sP8ityz6XuaC"
      }
    },
    {
      "cell_type": "code",
      "source": [
        "scores = [26, 49, 98, 87, 62, 75]\n",
        "\n",
        "scores.sort()\n",
        "print(scores)\n",
        "\n",
        "\n",
        "\n",
        "\n",
        "\n",
        "\n"
      ],
      "metadata": {
        "colab": {
          "base_uri": "https://localhost:8080/"
        },
        "id": "kYgN6GzHXyCg",
        "outputId": "581162d1-94db-4d91-aaea-e1432d62ebc4"
      },
      "execution_count": 7,
      "outputs": [
        {
          "output_type": "stream",
          "name": "stdout",
          "text": [
            "[26, 49, 62, 75, 87, 98]\n"
          ]
        }
      ]
    }
  ]
}