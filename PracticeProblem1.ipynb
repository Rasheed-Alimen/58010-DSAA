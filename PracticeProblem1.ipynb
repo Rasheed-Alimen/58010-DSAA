{
  "nbformat": 4,
  "nbformat_minor": 0,
  "metadata": {
    "colab": {
      "provenance": [],
      "authorship_tag": "ABX9TyM7G+T8pWx/pBubZ1u1oIoV",
      "include_colab_link": true
    },
    "kernelspec": {
      "name": "python3",
      "display_name": "Python 3"
    },
    "language_info": {
      "name": "python"
    }
  },
  "cells": [
    {
      "cell_type": "markdown",
      "metadata": {
        "id": "view-in-github",
        "colab_type": "text"
      },
      "source": [
        "<a href=\"https://colab.research.google.com/github/Rasheed-Alimen/58010-DSAA/blob/main/PracticeProblem1.ipynb\" target=\"_parent\"><img src=\"https://colab.research.google.com/assets/colab-badge.svg\" alt=\"Open In Colab\"/></a>"
      ]
    },
    {
      "cell_type": "code",
      "execution_count": 7,
      "metadata": {
        "colab": {
          "base_uri": "https://localhost:8080/"
        },
        "id": "Tp6u2rF9ANdk",
        "outputId": "1c72ac23-eafe-4ab0-a560-227a2b051289"
      },
      "outputs": [
        {
          "output_type": "stream",
          "name": "stdout",
          "text": [
            "Even test scores total: 186\n"
          ]
        }
      ],
      "source": [
        "\n",
        "test_scores = [26, 49, 98, 87, 62, 75]\n",
        "total = 0\n",
        "for score in test_scores:\n",
        "    if score % 2 == 0:\n",
        "        total += score\n",
        "print(\"Even test scores total:\", total)"
      ]
    }
  ]
}