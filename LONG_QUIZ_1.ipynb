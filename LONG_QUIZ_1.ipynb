{
  "nbformat": 4,
  "nbformat_minor": 0,
  "metadata": {
    "colab": {
      "provenance": [],
      "authorship_tag": "ABX9TyPUIOiNFuDiuQN2sn6HMRcZ",
      "include_colab_link": true
    },
    "kernelspec": {
      "name": "python3",
      "display_name": "Python 3"
    },
    "language_info": {
      "name": "python"
    }
  },
  "cells": [
    {
      "cell_type": "markdown",
      "metadata": {
        "id": "view-in-github",
        "colab_type": "text"
      },
      "source": [
        "<a href=\"https://colab.research.google.com/github/Rasheed-Alimen/58010-DSAA/blob/main/LONG_QUIZ_1.ipynb\" target=\"_parent\"><img src=\"https://colab.research.google.com/assets/colab-badge.svg\" alt=\"Open In Colab\"/></a>"
      ]
    },
    {
      "cell_type": "markdown",
      "source": [
        "Create a python or C++ program that appends each character of your full name and displays each character in reverse order"
      ],
      "metadata": {
        "id": "RU8L47iLPdZQ"
      }
    },
    {
      "cell_type": "code",
      "execution_count": 18,
      "metadata": {
        "colab": {
          "base_uri": "https://localhost:8080/"
        },
        "id": "1Ln_yLQDK2rA",
        "outputId": "5d50a9d2-5367-4eb4-baf1-8fb055c752cd"
      },
      "outputs": [
        {
          "output_type": "stream",
          "name": "stdout",
          "text": [
            "['N', 'E', 'M', 'I', 'L', 'A', ' ', 'M', ' ', 'L', 'L', 'A', 'H', 'S', 'R', 'A', 'M', ' ', 'D', 'E', 'E', 'H', 'S', 'A', 'R', ': name  ']\n"
          ]
        }
      ],
      "source": [
        "characters = [\": name  \"]\n",
        "characters.append(\"R\")\n",
        "characters.append(\"A\")\n",
        "characters.append(\"S\")\n",
        "characters.append(\"H\")\n",
        "characters.append(\"E\")\n",
        "characters.append(\"E\")\n",
        "characters.append(\"D\")\n",
        "characters.append(\" \")\n",
        "\n",
        "characters.append(\"M\")\n",
        "characters.append(\"A\")\n",
        "characters.append(\"R\")\n",
        "characters.append(\"S\")\n",
        "characters.append(\"H\")\n",
        "characters.append(\"A\")\n",
        "characters.append(\"L\")\n",
        "characters.append(\"L\")\n",
        "characters.append(\" \")\n",
        "\n",
        "characters.append(\"M\")\n",
        "characters.append(\" \")\n",
        "\n",
        "characters.append(\"A\")\n",
        "characters.append(\"L\")\n",
        "characters.append(\"I\")\n",
        "characters.append(\"M\")\n",
        "characters.append(\"E\")\n",
        "characters.append(\"N\")\n",
        "characters.reverse()\n",
        "\n",
        "print (characters)"
      ]
    },
    {
      "cell_type": "markdown",
      "source": [
        "Using the set of positive whole numbers from 1 to 10, create a python or C++ program that displays if it is prime or composite."
      ],
      "metadata": {
        "id": "zh0eD7apPgYg"
      }
    },
    {
      "cell_type": "code",
      "source": [
        "def prime(integer):\n",
        "    if integer <= 1:\n",
        "        return False\n",
        "    if integer <= 3:\n",
        "        return True\n",
        "    if integer % 2 == 0 or integer % 3 == 0:\n",
        "        return False\n",
        "    n = 5\n",
        "    while n * n <= integer:\n",
        "        if integer % n == 0 or integer % (n + 2) == 0:\n",
        "            return False\n",
        "        n += 6\n",
        "    return True\n",
        "\n",
        "def numbers():\n",
        "    for num in range(1, 11):\n",
        "        if prime(num):\n",
        "            print(f\"{num} is a prime number\")\n",
        "        else:\n",
        "            print(f\"{num} is a composite number\")\n",
        "\n",
        "numbers()"
      ],
      "metadata": {
        "colab": {
          "base_uri": "https://localhost:8080/"
        },
        "id": "A71YsHFbUczZ",
        "outputId": "2eb6710e-fbe1-422a-b812-518b9d950442"
      },
      "execution_count": 42,
      "outputs": [
        {
          "output_type": "stream",
          "name": "stdout",
          "text": [
            "1 is a composite number\n",
            "2 is a prime number\n",
            "3 is a prime number\n",
            "4 is a composite number\n",
            "5 is a prime number\n",
            "6 is a composite number\n",
            "7 is a prime number\n",
            "8 is a composite number\n",
            "9 is a composite number\n",
            "10 is a composite number\n"
          ]
        }
      ]
    }
  ]
}